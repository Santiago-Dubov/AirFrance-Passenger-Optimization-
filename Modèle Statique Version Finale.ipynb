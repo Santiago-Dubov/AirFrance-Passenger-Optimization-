{
 "cells": [
  {
   "cell_type": "markdown",
   "metadata": {},
   "source": [
    "Ce fichier contient l'implémentation de notre modèle statique avec l'ensemble des contraintes imposées.\n",
    "\n",
    "Pour utiliser ce fichier, il faut que le csv \"dict_seatingX.csv\" se trouve dans le même dossier. On a inclus les fichiers \"dict_seatingX.csv\" (X=1,...,9) dans le dossier et cela correspond aux 9 instances qui \n",
    "nous ont été proposées par l'équipe d'AirFrance, en respectant leur ordre sur l'Excel. Elles ont été créé grâce au notebook python \"seating_extraction.ipynb\""
   ]
  },
  {
   "cell_type": "code",
   "execution_count": 2,
   "metadata": {},
   "outputs": [],
   "source": [
    "using JuMP, Gurobi\n",
    "using CSV, DataFrames\n",
    "using BenchmarkTools"
   ]
  },
  {
   "cell_type": "code",
   "execution_count": 59,
   "metadata": {},
   "outputs": [
    {
     "data": {
      "text/html": [
       "<table class=\"data-frame\"><thead><tr><th></th><th>Column1</th><th>genre</th><th>enfant</th><th>transit_time</th><th>classe</th><th>WCHR</th><th>group_members</th><th>poids</th></tr><tr><th></th><th>Int64</th><th>Int64</th><th>Int64</th><th>Int64</th><th>Int64</th><th>Int64</th><th>String</th><th>Int64</th></tr></thead><tbody><p>160 rows × 8 columns</p><tr><th>1</th><td>1</td><td>1</td><td>0</td><td>0</td><td>1</td><td>0</td><td>[1, 2]</td><td>80</td></tr><tr><th>2</th><td>2</td><td>0</td><td>0</td><td>0</td><td>1</td><td>0</td><td>[1, 2]</td><td>70</td></tr><tr><th>3</th><td>3</td><td>1</td><td>0</td><td>0</td><td>1</td><td>0</td><td>[3, 4]</td><td>80</td></tr><tr><th>4</th><td>4</td><td>0</td><td>0</td><td>0</td><td>1</td><td>0</td><td>[3, 4]</td><td>70</td></tr><tr><th>5</th><td>5</td><td>0</td><td>0</td><td>0</td><td>1</td><td>0</td><td>[5]</td><td>70</td></tr><tr><th>6</th><td>6</td><td>0</td><td>0</td><td>0</td><td>1</td><td>0</td><td>[6, 7]</td><td>70</td></tr><tr><th>7</th><td>7</td><td>1</td><td>1</td><td>0</td><td>1</td><td>0</td><td>[6, 7]</td><td>35</td></tr><tr><th>8</th><td>8</td><td>1</td><td>0</td><td>0</td><td>1</td><td>0</td><td>[8]</td><td>80</td></tr><tr><th>9</th><td>9</td><td>0</td><td>0</td><td>0</td><td>0</td><td>0</td><td>[9, 10]</td><td>70</td></tr><tr><th>10</th><td>10</td><td>0</td><td>0</td><td>0</td><td>0</td><td>0</td><td>[9, 10]</td><td>70</td></tr><tr><th>11</th><td>11</td><td>0</td><td>0</td><td>0</td><td>0</td><td>0</td><td>[11]</td><td>70</td></tr><tr><th>12</th><td>12</td><td>1</td><td>0</td><td>0</td><td>0</td><td>0</td><td>[12, 13, 14, 15, 16]</td><td>80</td></tr><tr><th>13</th><td>13</td><td>0</td><td>0</td><td>0</td><td>0</td><td>0</td><td>[12, 13, 14, 15, 16]</td><td>70</td></tr><tr><th>14</th><td>14</td><td>1</td><td>1</td><td>0</td><td>0</td><td>0</td><td>[12, 13, 14, 15, 16]</td><td>35</td></tr><tr><th>15</th><td>15</td><td>1</td><td>1</td><td>0</td><td>0</td><td>0</td><td>[12, 13, 14, 15, 16]</td><td>35</td></tr><tr><th>16</th><td>16</td><td>1</td><td>1</td><td>0</td><td>0</td><td>0</td><td>[12, 13, 14, 15, 16]</td><td>35</td></tr><tr><th>17</th><td>17</td><td>1</td><td>0</td><td>0</td><td>0</td><td>0</td><td>[17, 18, 19, 20]</td><td>80</td></tr><tr><th>18</th><td>18</td><td>0</td><td>0</td><td>0</td><td>0</td><td>0</td><td>[17, 18, 19, 20]</td><td>70</td></tr><tr><th>19</th><td>19</td><td>0</td><td>0</td><td>0</td><td>0</td><td>0</td><td>[17, 18, 19, 20]</td><td>70</td></tr><tr><th>20</th><td>20</td><td>1</td><td>1</td><td>0</td><td>0</td><td>0</td><td>[17, 18, 19, 20]</td><td>35</td></tr><tr><th>21</th><td>21</td><td>1</td><td>0</td><td>0</td><td>0</td><td>0</td><td>[21]</td><td>80</td></tr><tr><th>22</th><td>22</td><td>1</td><td>0</td><td>0</td><td>0</td><td>0</td><td>[22]</td><td>80</td></tr><tr><th>23</th><td>23</td><td>0</td><td>0</td><td>0</td><td>0</td><td>0</td><td>[23, 24, 25, 26]</td><td>70</td></tr><tr><th>24</th><td>24</td><td>0</td><td>0</td><td>0</td><td>0</td><td>0</td><td>[23, 24, 25, 26]</td><td>70</td></tr><tr><th>25</th><td>25</td><td>0</td><td>0</td><td>0</td><td>0</td><td>0</td><td>[23, 24, 25, 26]</td><td>70</td></tr><tr><th>26</th><td>26</td><td>0</td><td>0</td><td>0</td><td>0</td><td>0</td><td>[23, 24, 25, 26]</td><td>70</td></tr><tr><th>27</th><td>27</td><td>0</td><td>0</td><td>0</td><td>0</td><td>0</td><td>[27, 28, 29]</td><td>70</td></tr><tr><th>28</th><td>28</td><td>0</td><td>0</td><td>0</td><td>0</td><td>0</td><td>[27, 28, 29]</td><td>70</td></tr><tr><th>29</th><td>29</td><td>1</td><td>1</td><td>0</td><td>0</td><td>0</td><td>[27, 28, 29]</td><td>35</td></tr><tr><th>30</th><td>30</td><td>1</td><td>0</td><td>0</td><td>0</td><td>0</td><td>[30, 31]</td><td>80</td></tr><tr><th>&vellip;</th><td>&vellip;</td><td>&vellip;</td><td>&vellip;</td><td>&vellip;</td><td>&vellip;</td><td>&vellip;</td><td>&vellip;</td><td>&vellip;</td></tr></tbody></table>"
      ],
      "text/latex": [
       "\\begin{tabular}{r|cccccccc}\n",
       "\t& Column1 & genre & enfant & transit\\_time & classe & WCHR & group\\_members & poids\\\\\n",
       "\t\\hline\n",
       "\t& Int64 & Int64 & Int64 & Int64 & Int64 & Int64 & String & Int64\\\\\n",
       "\t\\hline\n",
       "\t1 & 1 & 1 & 0 & 0 & 1 & 0 & [1, 2] & 80 \\\\\n",
       "\t2 & 2 & 0 & 0 & 0 & 1 & 0 & [1, 2] & 70 \\\\\n",
       "\t3 & 3 & 1 & 0 & 0 & 1 & 0 & [3, 4] & 80 \\\\\n",
       "\t4 & 4 & 0 & 0 & 0 & 1 & 0 & [3, 4] & 70 \\\\\n",
       "\t5 & 5 & 0 & 0 & 0 & 1 & 0 & [5] & 70 \\\\\n",
       "\t6 & 6 & 0 & 0 & 0 & 1 & 0 & [6, 7] & 70 \\\\\n",
       "\t7 & 7 & 1 & 1 & 0 & 1 & 0 & [6, 7] & 35 \\\\\n",
       "\t8 & 8 & 1 & 0 & 0 & 1 & 0 & [8] & 80 \\\\\n",
       "\t9 & 9 & 0 & 0 & 0 & 0 & 0 & [9, 10] & 70 \\\\\n",
       "\t10 & 10 & 0 & 0 & 0 & 0 & 0 & [9, 10] & 70 \\\\\n",
       "\t11 & 11 & 0 & 0 & 0 & 0 & 0 & [11] & 70 \\\\\n",
       "\t12 & 12 & 1 & 0 & 0 & 0 & 0 & [12, 13, 14, 15, 16] & 80 \\\\\n",
       "\t13 & 13 & 0 & 0 & 0 & 0 & 0 & [12, 13, 14, 15, 16] & 70 \\\\\n",
       "\t14 & 14 & 1 & 1 & 0 & 0 & 0 & [12, 13, 14, 15, 16] & 35 \\\\\n",
       "\t15 & 15 & 1 & 1 & 0 & 0 & 0 & [12, 13, 14, 15, 16] & 35 \\\\\n",
       "\t16 & 16 & 1 & 1 & 0 & 0 & 0 & [12, 13, 14, 15, 16] & 35 \\\\\n",
       "\t17 & 17 & 1 & 0 & 0 & 0 & 0 & [17, 18, 19, 20] & 80 \\\\\n",
       "\t18 & 18 & 0 & 0 & 0 & 0 & 0 & [17, 18, 19, 20] & 70 \\\\\n",
       "\t19 & 19 & 0 & 0 & 0 & 0 & 0 & [17, 18, 19, 20] & 70 \\\\\n",
       "\t20 & 20 & 1 & 1 & 0 & 0 & 0 & [17, 18, 19, 20] & 35 \\\\\n",
       "\t21 & 21 & 1 & 0 & 0 & 0 & 0 & [21] & 80 \\\\\n",
       "\t22 & 22 & 1 & 0 & 0 & 0 & 0 & [22] & 80 \\\\\n",
       "\t23 & 23 & 0 & 0 & 0 & 0 & 0 & [23, 24, 25, 26] & 70 \\\\\n",
       "\t24 & 24 & 0 & 0 & 0 & 0 & 0 & [23, 24, 25, 26] & 70 \\\\\n",
       "\t25 & 25 & 0 & 0 & 0 & 0 & 0 & [23, 24, 25, 26] & 70 \\\\\n",
       "\t26 & 26 & 0 & 0 & 0 & 0 & 0 & [23, 24, 25, 26] & 70 \\\\\n",
       "\t27 & 27 & 0 & 0 & 0 & 0 & 0 & [27, 28, 29] & 70 \\\\\n",
       "\t28 & 28 & 0 & 0 & 0 & 0 & 0 & [27, 28, 29] & 70 \\\\\n",
       "\t29 & 29 & 1 & 1 & 0 & 0 & 0 & [27, 28, 29] & 35 \\\\\n",
       "\t30 & 30 & 1 & 0 & 0 & 0 & 0 & [30, 31] & 80 \\\\\n",
       "\t$\\dots$ & $\\dots$ & $\\dots$ & $\\dots$ & $\\dots$ & $\\dots$ & $\\dots$ & $\\dots$ & $\\dots$ \\\\\n",
       "\\end{tabular}\n"
      ],
      "text/plain": [
       "160×8 DataFrame. Omitted printing of 2 columns\n",
       "│ Row │ Column1 │ genre │ enfant │ transit_time │ classe │ WCHR  │\n",
       "│     │ \u001b[90mInt64\u001b[39m   │ \u001b[90mInt64\u001b[39m │ \u001b[90mInt64\u001b[39m  │ \u001b[90mInt64\u001b[39m        │ \u001b[90mInt64\u001b[39m  │ \u001b[90mInt64\u001b[39m │\n",
       "├─────┼─────────┼───────┼────────┼──────────────┼────────┼───────┤\n",
       "│ 1   │ 1       │ 1     │ 0      │ 0            │ 1      │ 0     │\n",
       "│ 2   │ 2       │ 0     │ 0      │ 0            │ 1      │ 0     │\n",
       "│ 3   │ 3       │ 1     │ 0      │ 0            │ 1      │ 0     │\n",
       "│ 4   │ 4       │ 0     │ 0      │ 0            │ 1      │ 0     │\n",
       "│ 5   │ 5       │ 0     │ 0      │ 0            │ 1      │ 0     │\n",
       "│ 6   │ 6       │ 0     │ 0      │ 0            │ 1      │ 0     │\n",
       "│ 7   │ 7       │ 1     │ 1      │ 0            │ 1      │ 0     │\n",
       "│ 8   │ 8       │ 1     │ 0      │ 0            │ 1      │ 0     │\n",
       "│ 9   │ 9       │ 0     │ 0      │ 0            │ 0      │ 0     │\n",
       "│ 10  │ 10      │ 0     │ 0      │ 0            │ 0      │ 0     │\n",
       "⋮\n",
       "│ 150 │ 150     │ 0     │ 0      │ 0            │ 0      │ 0     │\n",
       "│ 151 │ 151     │ 1     │ 1      │ 0            │ 0      │ 0     │\n",
       "│ 152 │ 152     │ 1     │ 0      │ 0            │ 0      │ 0     │\n",
       "│ 153 │ 153     │ 0     │ 0      │ 0            │ 0      │ 0     │\n",
       "│ 154 │ 154     │ 1     │ 0      │ 0            │ 0      │ 0     │\n",
       "│ 155 │ 155     │ 0     │ 0      │ 0            │ 0      │ 0     │\n",
       "│ 156 │ 156     │ 0     │ 0      │ 0            │ 0      │ 0     │\n",
       "│ 157 │ 157     │ 1     │ 1      │ 0            │ 0      │ 0     │\n",
       "│ 158 │ 158     │ 0     │ 0      │ 0            │ 0      │ 0     │\n",
       "│ 159 │ 159     │ 1     │ 0      │ 0            │ 0      │ 0     │\n",
       "│ 160 │ 160     │ 1     │ 0      │ 0            │ 0      │ 0     │"
      ]
     },
     "metadata": {},
     "output_type": "display_data"
    }
   ],
   "source": [
    "df_seating = CSV.read(\"dict_seating.csv\")\n",
    "poids = df_seating[!,:poids];\n",
    "transit_time = df_seating[!,:transit_time]\n",
    "group_members = df_seating[!,:group_members]\n",
    "business = df_seating[!,:classe];\n",
    "enfants = Array(df_seating[!,:enfant])\n",
    "WCHR = Array(df_seating[!,:WCHR])\n",
    "display(df_seating)\n"
   ]
  },
  {
   "cell_type": "markdown",
   "metadata": {},
   "source": [
    "# Choix de Type d'avion"
   ]
  },
  {
   "cell_type": "code",
   "execution_count": 82,
   "metadata": {},
   "outputs": [],
   "source": [
    "avion_type = \"A320\" #A320 = 29 rangées // A321 = 36 rangées\n",
    "\n",
    "if avion_type == \"A320\"\n",
    "    secours = [11,12]\n",
    "    Bc_y_min = 13.5\n",
    "    Bc_y_max = 17.5\n",
    "    nb_rangees = 29\n",
    "\n",
    "elseif avion_type ==\"A321\"\n",
    "    secours = [16,20]\n",
    "    Bc_y_min = 16.5\n",
    "    Bc_y_max = 20.5\n",
    "    nb_rangees = 36\n",
    "end\n",
    "\n",
    "nb_passagers = length(poids)\n",
    "nb_colonnes = 6;\n",
    "buss_pass = collect(i for i in 1:nb_passagers if business[i] ==1)\n",
    "nb_business = length(buss_pass)\n",
    ";"
   ]
  },
  {
   "cell_type": "markdown",
   "metadata": {},
   "source": [
    "## Création d'une liste contenant tous les groupes et d'un dictionnaire qui donne le groupe de chaque passager"
   ]
  },
  {
   "cell_type": "code",
   "execution_count": 83,
   "metadata": {},
   "outputs": [],
   "source": [
    "#création du dictionnaire contenant tous les membres du groupe\n",
    "groups = Dict()\n",
    "groups_unique = Dict()\n",
    "for i = 1:nb_passagers\n",
    "    group = group_members[i]\n",
    "    group = replace(group, \"[\" => \"\")\n",
    "    group = replace(group, \"]\" => \"\")\n",
    "    group = replace(group, \",\" => \"\")\n",
    "    a = [parse(Int, ss) for ss in split(group)]\n",
    "    groups[i] = a\n",
    "end\n",
    "\n",
    "\n",
    "a = []\n",
    "unique_group = []\n",
    "\n",
    "nb_groups = 0\n",
    "\n",
    "for i=1:nb_passagers\n",
    "    if a != groups[i]\n",
    "        a = groups[i]\n",
    "        push!(unique_group,a)\n",
    "        nb_groups += 1\n",
    "    end\n",
    "end\n"
   ]
  },
  {
   "cell_type": "markdown",
   "metadata": {},
   "source": [
    "# Group d'enfants\n",
    "\n",
    "Ici on résout le problème des groupes d'enfants. S'il existe plus que 2 enfants par adulte dans un groupe\n",
    "leur placement dans la même demi-rangée avec un adulte de leur groupe devient impossible (cf. rapport final).\n",
    "Dans ce cas, on les considère comme des passagers adultes (avec des poids d'enfants) et la distance aux adultes du groupe est minimisée."
   ]
  },
  {
   "cell_type": "code",
   "execution_count": 84,
   "metadata": {},
   "outputs": [],
   "source": [
    "\n",
    "for x in unique_group\n",
    "    group_size = length(x)\n",
    "    num_enfants = 0\n",
    "    num_adults =0 \n",
    "    for i in x\n",
    "        if enfants[i] == 1\n",
    "            num_enfants += 1\n",
    "        else\n",
    "            num_adults += 1\n",
    "        end\n",
    "    end\n",
    "    if num_enfants/2 > num_adults\n",
    "        for i in x\n",
    "            enfants[i] = 0 \n",
    "        end\n",
    "    end\n",
    "end"
   ]
  },
  {
   "cell_type": "markdown",
   "metadata": {},
   "source": [
    "# Réinitialisation se fait d'ici à chaque fois"
   ]
  },
  {
   "cell_type": "code",
   "execution_count": 85,
   "metadata": {},
   "outputs": [
    {
     "name": "stdout",
     "output_type": "stream",
     "text": [
      "Academic license - for non-commercial use only\r\n"
     ]
    }
   ],
   "source": [
    "# Creation du modèle et des variables de décision.\n",
    "model = Model(Gurobi.Optimizer)\n",
    "set_optimizer_attributes(model, \"Presolve\" => 1, \"OutputFlag\" => 1,\"Method\"=>-1,)\n",
    "set_time_limit_sec(model::Model, 60)\n",
    "@variable(model, delta[1:nb_rangees,1:nb_colonnes,1:nb_passagers],Bin)\n",
    "\n",
    "# la variable de décision gamma est seulement créée si des enfants sont présents sur l'avion\n",
    "if 1 in enfants\n",
    "    @variable(model,gamma[1:nb_rangees, 1:nb_colonnes, 1:nb_passagers] >= -1,Int)\n",
    "end\n",
    "\n",
    "# On définit le max et min rangée et colonne pour chaque groupe pour qu'ils soient réunis sur des rangées proches\n",
    "\n",
    "@variable(model, 1 <= max_col[1:nb_groups] <= nb_colonnes+1,Int) #le +1 prend en compte l'allée centrale\n",
    "@variable(model, 1 <= min_col[1:nb_groups] <= nb_colonnes+1,Int) \n",
    "@variable(model, 1 <= min_ran[1:nb_groups] <= nb_rangees,Int)\n",
    "@variable(model, 1 <= max_ran[1:nb_groups] <= nb_rangees,Int)\n",
    ";\n",
    "\n",
    "#On assure que le max est plus grand que le min\n",
    "for g=1:nb_groups\n",
    "    @constraint(model, min_col[g] <= max_col[g])\n",
    "    @constraint(model, min_ran[g] <= max_ran[g])\n",
    "end"
   ]
  },
  {
   "cell_type": "markdown",
   "metadata": {},
   "source": [
    "# Contraintes de base - contraintes physiques"
   ]
  },
  {
   "cell_type": "code",
   "execution_count": 86,
   "metadata": {},
   "outputs": [],
   "source": [
    "#un passager par place\n",
    "one_pass = Dict()\n",
    "for i = 1:nb_rangees\n",
    "    for j = 1:nb_colonnes\n",
    "        one_pass[i+j] = @constraint(model, sum(delta[i,j,:]) <= 1)\n",
    "    end\n",
    "end\n",
    "\n",
    "\n",
    "#chaque passager est attribué une place\n",
    "every_pass = Dict()\n",
    "\n",
    "for k = 1:nb_passagers\n",
    "    every_pass[k] = @constraint(model, sum(delta[:,:,k]) == 1)\n",
    "end\n",
    "\n",
    ";"
   ]
  },
  {
   "cell_type": "markdown",
   "metadata": {},
   "source": [
    "# Matrices qui permettent de trouver max et min des rangées / colonnes"
   ]
  },
  {
   "cell_type": "code",
   "execution_count": 87,
   "metadata": {},
   "outputs": [],
   "source": [
    "#Ces matrices nous aident à assurer que tout les passagers se trouve dans les limites imposer par leur groupe et que \n",
    "#ces limites sont minimisé\n",
    "\n",
    "#La matrice T est de la même taille de l'avion est vaut 1,2,3 pour des valeurs dans les premières trois colonnes\n",
    "#Ça vaut 5,6,7 pour des valeurs dans les dernières trois colonnes respectivement\n",
    "T = zeros(Int64,nb_rangees,nb_colonnes)\n",
    "for j=1:nb_colonnes\n",
    "    for i =1:nb_rangees\n",
    "        if j<=3\n",
    "            T[i,j] = j\n",
    "        else \n",
    "            T[i,j]=j+1 #pour prendre en compte la présence de l'allée centrale et favoriser certaines configurations\n",
    "        end\n",
    "    end\n",
    "end\n",
    "\n",
    "R = zeros(Int64,nb_rangees,nb_colonnes)\n",
    "for j=1:nb_colonnes\n",
    "    for i =1:nb_rangees\n",
    "        R[i,j] = i\n",
    "    end\n",
    "end"
   ]
  },
  {
   "cell_type": "code",
   "execution_count": 88,
   "metadata": {},
   "outputs": [],
   "source": [
    "#Chaque passager doit être placé dans les places définiées par le min / max pour sa colonne / rangée\n",
    "for g=1:nb_groups\n",
    "    for k in unique_group[g]\n",
    "        @constraint(model, sum(T.*delta[:,:,k]) <= max_col[g])\n",
    "        @constraint(model, min_col[g] <= sum(T.*delta[:,:,k]))\n",
    "    end\n",
    "    \n",
    "end\n",
    "\n",
    "for g=1:nb_groups\n",
    "    for k in unique_group[g]\n",
    "        @constraint(model, sum(R.*delta[:,:,k]) <= max_ran[g])\n",
    "        @constraint(model, min_ran[g] <= sum(R.*delta[:,:,k]))\n",
    "    end\n",
    "end"
   ]
  },
  {
   "cell_type": "markdown",
   "metadata": {},
   "source": [
    "# Centrage de l'avion - position du barycentre des passagers"
   ]
  },
  {
   "cell_type": "code",
   "execution_count": 89,
   "metadata": {},
   "outputs": [],
   "source": [
    "#w une matrice utilisée pour ajouter une distance de 1 pour les personnes qui se trouvent sur l'autre coté de l'allée centrale. \n",
    "#utilisé pour calculer la centre de mass dans la direction x -->\n",
    "w = zeros(Int64,nb_rangees,nb_colonnes)\n",
    "for i = 1:nb_rangees\n",
    "    for j = 1:nb_colonnes\n",
    "        if j >= 4\n",
    "            w[i,j] = 1\n",
    "        end\n",
    "    end\n",
    "end\n",
    "\n",
    "#Poids total de tout les passagers\n",
    "total_poids = 0\n",
    "for k= 1:nb_passagers\n",
    "    total_poids += poids[k]\n",
    "end\n",
    "\n",
    "#Centrage dans la direction X\n",
    "m = 0 \n",
    "\n",
    "for i = 1:nb_rangees\n",
    "    for j = 1:nb_colonnes\n",
    "        m += sum(delta[i,j,:].*poids)*(j-0.5 + w[i,j]) \n",
    "    end\n",
    "end\n",
    "\n",
    "x_G = m/total_poids\n",
    "\n",
    "@constraint(model, 2.5 <= x_G <= 4.5)\n",
    "\n",
    "#Centrage dans la direction Y\n",
    "\n",
    "n = 0\n",
    "\n",
    "for i = 1:nb_rangees\n",
    "    for j = 1:nb_colonnes\n",
    "            n += sum(delta[i,j,:].*poids)*(i-0.5)\n",
    "    end\n",
    "end\n",
    "\n",
    "y_G = n/total_poids \n",
    "\n",
    "@constraint(model,Bc_y_min <= y_G <= Bc_y_max);"
   ]
  },
  {
   "cell_type": "markdown",
   "metadata": {},
   "source": [
    "# Business Class"
   ]
  },
  {
   "cell_type": "code",
   "execution_count": 90,
   "metadata": {},
   "outputs": [],
   "source": [
    "#On place les passagers business à l'avant de l'avion, en déterminant la zone qui leur ait réservée. \n",
    "#On suppose en effet qu'on peut délimiter la business class grâce à un rideau mobile\n",
    "rang_bus_cab = nb_business ÷ 4\n",
    "if nb_business % 4 != 0\n",
    "    rang_bus_cab += 1\n",
    "end\n",
    "if rang_bus_cab >= 1\n",
    "    for i=1:rang_bus_cab\n",
    "        @constraint(model, sum(delta[i, j, k] for j=2 for k=1:nb_passagers) == 0)\n",
    "        @constraint(model, sum(delta[i, j, k] for j=5 for k=1:nb_passagers) == 0)\n",
    "    end\n",
    "end \n",
    "                                \n",
    "for k=1:nb_passagers\n",
    "    if business[k]==1\n",
    "        @constraint(model, sum(delta[1:rang_bus_cab,:,k]) >= 1)\n",
    "    end\n",
    "end"
   ]
  },
  {
   "cell_type": "markdown",
   "metadata": {},
   "source": [
    "# Contrainte: Placement des enfants"
   ]
  },
  {
   "cell_type": "code",
   "execution_count": 91,
   "metadata": {},
   "outputs": [],
   "source": [
    "# Les enfants ne doivent pas être isolés (présence d'un adulte de leur groupe à côté d'eux)\n",
    "if 1 in enfants\n",
    "    for k=1:nb_passagers\n",
    "        if enfants[k]==1 && business[k]!=1\n",
    "            for i=1:nb_rangees\n",
    "                for j=1:nb_colonnes\n",
    "                    @constraint(model, gamma[i, j, k] == -1*delta[i, j, k])\n",
    "                end\n",
    "            end\n",
    "        else\n",
    "            for i=1:nb_rangees\n",
    "                for j=1:nb_colonnes\n",
    "                    @constraint(model, gamma[i, j, k] == 3*delta[i, j, k])\n",
    "                end\n",
    "            end\n",
    "        end\n",
    "        \n",
    "        if length(groups[k]) > 1\n",
    "            for i=1:nb_rangees\n",
    "                @constraint(model, sum(gamma[i, j, m] for j=1:3 for m in groups[k]) >= 0)\n",
    "                @constraint(model, sum(gamma[i, j, m] for j=4:6 for m in groups[k]) >= 0)                                                                                     \n",
    "            end\n",
    "        end\n",
    "    end\n",
    "    \n",
    "    for i in secours #on interdit que les enfants soient placés en face des issues de secours en imposant \n",
    "                        #une contrainte sur la variable de décision telle que ce soit nécessairement un adulte\n",
    "        @constraint(model, sum(gamma[i, j, k] for j=6 for k=1:nb_passagers) >= 1) \n",
    "        @constraint(model, sum(gamma[i, j, k] for j=1 for k=1:nb_passagers) >= 1)\n",
    "    end                                                                                                \n",
    "end       \n",
    ";   "
   ]
  },
  {
   "cell_type": "markdown",
   "metadata": {},
   "source": [
    "## Placement des passagers en fauteuil roulant\n",
    "\n",
    "On place les passagers en fauteuil roulant derrière la zone réservée aux passagers en classe business. Les places sur lesquelles seront affectées les passagers à mobilité réduite sont donc parfaitement définies.On suppose ici qu'il y a un maximum de 6 personnes à mobilité réduite sur chaque vol (c'est le cas dans les 9 instances que nous considérerons)."
   ]
  },
  {
   "cell_type": "code",
   "execution_count": 92,
   "metadata": {},
   "outputs": [],
   "source": [
    "#On place les passagers en fauteuil roulant derrière la zone réservée aux passagers en classe business\n",
    "\n",
    "wc = rang_bus_cab +1 # Le rangée dans laquelle les wheelchair commencent \n",
    "num_wchr = 0 \n",
    "if 1 in WCHR\n",
    "    for k=1:nb_passagers\n",
    "        if WCHR[k] == 1\n",
    "            num_wchr += 1\n",
    "            if num_wchr == 1\n",
    "                @constraint(model, sum(delta[wc,3,k]) == 1)\n",
    "                @constraint(model, sum(delta[wc:wc+1,2:3,:]) <= 1)\n",
    "            elseif num_wchr ==2\n",
    "                @constraint(model, sum(delta[wc,4,k]) == 1)\n",
    "                @constraint(model, sum(delta[wc:wc+1,4:5,:]) <= 1)\n",
    "            elseif num_wchr ==3\n",
    "                @constraint(model, sum(delta[wc+2,3,k]) == 1)\n",
    "                @constraint(model, sum(delta[wc+2:wc+3,2:3,:]) <= 1)\n",
    "            elseif num_wchr ==4\n",
    "                @constraint(model, sum(delta[wc+2,4,k]) == 1)\n",
    "                @constraint(model, sum(delta[wc+2:wc+3,4:5,:]) <= 1)\n",
    "            elseif num_wchr ==5\n",
    "                @constraint(model, sum(delta[wc+4,3,k]) == 1)\n",
    "                @constraint(model, sum(delta[wc+4:wc+5,2:3,:]) <= 1)\n",
    "            elseif num_wchr ==6\n",
    "                @constraint(model, sum(delta[wc+4,4,k]) == 1)\n",
    "                @constraint(model, sum(delta[wc+4:wc+5,4:5,:]) <= 1)\n",
    "            end\n",
    "        end\n",
    "    end\n",
    "end"
   ]
  },
  {
   "cell_type": "markdown",
   "metadata": {},
   "source": [
    "# Fonction Objectif"
   ]
  },
  {
   "cell_type": "code",
   "execution_count": 93,
   "metadata": {},
   "outputs": [],
   "source": [
    "#matrice avec des 1 dans le premier tiers\n",
    "\n",
    "x = zeros(Int64,nb_rangees,nb_colonnes)\n",
    "for i = 1:nb_rangees\n",
    "    for j = 1:nb_colonnes\n",
    "        if i <= 13 # change pour l'avion A321\n",
    "            x[i,j] = 1\n",
    "        end\n",
    "    end\n",
    "end\n",
    "\n",
    "# maximiser le nombre de passagers qui ont transit time == 1 qui sont dans le premiers tiers\n",
    "\n",
    "obj1 = 0\n",
    "for k = 1:nb_passagers\n",
    "    obj1 += sum(delta[:, :, k].*x)*transit_time[k]\n",
    "end\n",
    "\n",
    "    \n",
    "#On ajoute une constante dans la fonction objectif pour qu'elle reste de signe positif, et donc que le \"gap\" \n",
    "#soit informatif\n",
    "@objective(model, Min, 100 + 0.01*sum(max_col.-min_col) + 0.99*sum(max_ran.-min_ran)-obj1) \n",
    ";"
   ]
  },
  {
   "cell_type": "code",
   "execution_count": 94,
   "metadata": {
    "scrolled": false
   },
   "outputs": [
    {
     "name": "stdout",
     "output_type": "stream",
     "text": [
      "Academic license - for non-commercial use only\r\n",
      "Gurobi Optimizer version 9.0.1 build v9.0.1rc0 (win64)\r\n",
      "Optimize a model with 35331 rows, 56018 columns and 368088 nonzeros\r\n",
      "Model fingerprint: 0xde11bf95\r\n",
      "Variable types: 2 continuous, 56016 integer (27840 binary)\r\n",
      "Coefficient statistics:\r\n",
      "  Matrix range     [2e-03, 3e+01]\r\n",
      "  Objective range  [1e-02, 1e+00]\r\n",
      "  Bounds range     [1e+00, 3e+01]\r\n",
      "  RHS range        [1e+00, 1e+00]\r\n",
      "Presolve removed 33544 rows and 29192 columns\r\n",
      "Presolve time: 0.65s\r\n",
      "Presolved: 1787 rows, 26826 columns, 204580 nonzeros\r\n",
      "Variable types: 2 continuous, 26824 integer (26488 binary)\r\n",
      "\r\n",
      "Root relaxation: objective 8.900000e+01, 4368 iterations, 1.25 seconds\r\n",
      "Total elapsed time = 10.73s\r\n",
      "\r\n",
      "    Nodes    |    Current Node    |     Objective Bounds      |     Work\r\n",
      " Expl Unexpl |  Obj  Depth IntInf | Incumbent    BestBd   Gap | It/Node Time\r\n",
      "\r\n",
      "     0     0   89.00000    0  370          -   89.00000      -     -   12s\r\n",
      "H    0     0                     242.9900000   89.00000  63.4%     -   14s\r\n",
      "H    0     0                     169.9200000   89.00000  47.6%     -   26s\r\n",
      "     0     0   89.00000    0  662  169.92000   89.00000  47.6%     -   28s\r\n",
      "     0     0   89.00000    0  672  169.92000   89.00000  47.6%     -   30s\r\n",
      "     0     0   89.00000    0  372  169.92000   89.00000  47.6%     -   41s\r\n",
      "     0     0   89.00000    0  614  169.92000   89.00000  47.6%     -   43s\r\n",
      "     0     0          -    0       169.92000   89.00000  47.6%     -   60s\r\n",
      "\r\n",
      "Cutting planes:\r\n",
      "  Cover: 41\r\n",
      "  Clique: 1\r\n",
      "  MIR: 89\r\n",
      "  StrongCG: 13\r\n",
      "  GUB cover: 17\r\n",
      "  Zero half: 41\r\n",
      "  RLT: 30\r\n",
      "  Relax-and-lift: 20\r\n",
      "\r\n",
      "Explored 1 nodes (170946 simplex iterations) in 60.01 seconds\r\n",
      "Thread count was 4 (of 4 available processors)\r\n",
      "\r\n",
      "Solution count 2: 169.92 242.99 \r\n",
      "\r\n",
      "Time limit reached\r\n",
      "Best objective 1.699200000000e+02, best bound 8.900000000000e+01, gap 47.6224%\r\n"
     ]
    }
   ],
   "source": [
    "optimize!(model)"
   ]
  },
  {
   "cell_type": "markdown",
   "metadata": {},
   "source": [
    "# Affichage des résultats - Placement des passagers"
   ]
  },
  {
   "cell_type": "code",
   "execution_count": 95,
   "metadata": {
    "scrolled": false
   },
   "outputs": [
    {
     "name": "stdout",
     "output_type": "stream",
     "text": [
      "Objective value:169.91999999999996\n"
     ]
    },
    {
     "data": {
      "text/html": [
       "<table class=\"data-frame\"><thead><tr><th></th><th>x1</th><th>x2</th><th>x3</th><th>x4</th><th>x5</th><th>x6</th></tr><tr><th></th><th>Int64</th><th>Int64</th><th>Int64</th><th>Int64</th><th>Int64</th><th>Int64</th></tr></thead><tbody><p>29 rows × 6 columns</p><tr><th>1</th><td>129</td><td>0</td><td>1</td><td>2</td><td>0</td><td>4</td></tr><tr><th>2</th><td>99</td><td>0</td><td>100</td><td>82</td><td>0</td><td>3</td></tr><tr><th>3</th><td>132</td><td>0</td><td>8</td><td>5</td><td>0</td><td>135</td></tr><tr><th>4</th><td>6</td><td>0</td><td>7</td><td>128</td><td>0</td><td>127</td></tr><tr><th>5</th><td>51</td><td>125</td><td>124</td><td>11</td><td>107</td><td>21</td></tr><tr><th>6</th><td>48</td><td>50</td><td>55</td><td>34</td><td>108</td><td>101</td></tr><tr><th>7</th><td>159</td><td>49</td><td>74</td><td>64</td><td>63</td><td>134</td></tr><tr><th>8</th><td>56</td><td>54</td><td>0</td><td>65</td><td>66</td><td>141</td></tr><tr><th>9</th><td>57</td><td>47</td><td>52</td><td>154</td><td>78</td><td>44</td></tr><tr><th>10</th><td>90</td><td>28</td><td>29</td><td>67</td><td>79</td><td>112</td></tr><tr><th>11</th><td>77</td><td>32</td><td>53</td><td>92</td><td>130</td><td>38</td></tr><tr><th>12</th><td>88</td><td>42</td><td>19</td><td>20</td><td>18</td><td>27</td></tr><tr><th>13</th><td>89</td><td>139</td><td>22</td><td>126</td><td>17</td><td>91</td></tr><tr><th>14</th><td>70</td><td>43</td><td>111</td><td>94</td><td>98</td><td>76</td></tr><tr><th>15</th><td>95</td><td>0</td><td>117</td><td>72</td><td>93</td><td>24</td></tr><tr><th>16</th><td>103</td><td>104</td><td>26</td><td>152</td><td>23</td><td>153</td></tr><tr><th>17</th><td>105</td><td>102</td><td>33</td><td>13</td><td>15</td><td>16</td></tr><tr><th>18</th><td>12</td><td>14</td><td>155</td><td>73</td><td>140</td><td>25</td></tr><tr><th>19</th><td>35</td><td>145</td><td>149</td><td>71</td><td>45</td><td>0</td></tr><tr><th>20</th><td>137</td><td>136</td><td>138</td><td>119</td><td>150</td><td>151</td></tr><tr><th>21</th><td>10</td><td>143</td><td>9</td><td>131</td><td>60</td><td>58</td></tr><tr><th>22</th><td>75</td><td>0</td><td>85</td><td>115</td><td>59</td><td>81</td></tr><tr><th>23</th><td>30</td><td>0</td><td>31</td><td>84</td><td>160</td><td>106</td></tr><tr><th>24</th><td>118</td><td>114</td><td>87</td><td>0</td><td>46</td><td>109</td></tr><tr><th>25</th><td>86</td><td>133</td><td>68</td><td>120</td><td>113</td><td>37</td></tr><tr><th>26</th><td>142</td><td>83</td><td>147</td><td>146</td><td>148</td><td>62</td></tr><tr><th>27</th><td>97</td><td>36</td><td>110</td><td>96</td><td>116</td><td>158</td></tr><tr><th>28</th><td>157</td><td>156</td><td>69</td><td>41</td><td>40</td><td>80</td></tr><tr><th>29</th><td>144</td><td>123</td><td>122</td><td>39</td><td>61</td><td>121</td></tr></tbody></table>"
      ],
      "text/latex": [
       "\\begin{tabular}{r|cccccc}\n",
       "\t& x1 & x2 & x3 & x4 & x5 & x6\\\\\n",
       "\t\\hline\n",
       "\t& Int64 & Int64 & Int64 & Int64 & Int64 & Int64\\\\\n",
       "\t\\hline\n",
       "\t1 & 129 & 0 & 1 & 2 & 0 & 4 \\\\\n",
       "\t2 & 99 & 0 & 100 & 82 & 0 & 3 \\\\\n",
       "\t3 & 132 & 0 & 8 & 5 & 0 & 135 \\\\\n",
       "\t4 & 6 & 0 & 7 & 128 & 0 & 127 \\\\\n",
       "\t5 & 51 & 125 & 124 & 11 & 107 & 21 \\\\\n",
       "\t6 & 48 & 50 & 55 & 34 & 108 & 101 \\\\\n",
       "\t7 & 159 & 49 & 74 & 64 & 63 & 134 \\\\\n",
       "\t8 & 56 & 54 & 0 & 65 & 66 & 141 \\\\\n",
       "\t9 & 57 & 47 & 52 & 154 & 78 & 44 \\\\\n",
       "\t10 & 90 & 28 & 29 & 67 & 79 & 112 \\\\\n",
       "\t11 & 77 & 32 & 53 & 92 & 130 & 38 \\\\\n",
       "\t12 & 88 & 42 & 19 & 20 & 18 & 27 \\\\\n",
       "\t13 & 89 & 139 & 22 & 126 & 17 & 91 \\\\\n",
       "\t14 & 70 & 43 & 111 & 94 & 98 & 76 \\\\\n",
       "\t15 & 95 & 0 & 117 & 72 & 93 & 24 \\\\\n",
       "\t16 & 103 & 104 & 26 & 152 & 23 & 153 \\\\\n",
       "\t17 & 105 & 102 & 33 & 13 & 15 & 16 \\\\\n",
       "\t18 & 12 & 14 & 155 & 73 & 140 & 25 \\\\\n",
       "\t19 & 35 & 145 & 149 & 71 & 45 & 0 \\\\\n",
       "\t20 & 137 & 136 & 138 & 119 & 150 & 151 \\\\\n",
       "\t21 & 10 & 143 & 9 & 131 & 60 & 58 \\\\\n",
       "\t22 & 75 & 0 & 85 & 115 & 59 & 81 \\\\\n",
       "\t23 & 30 & 0 & 31 & 84 & 160 & 106 \\\\\n",
       "\t24 & 118 & 114 & 87 & 0 & 46 & 109 \\\\\n",
       "\t25 & 86 & 133 & 68 & 120 & 113 & 37 \\\\\n",
       "\t26 & 142 & 83 & 147 & 146 & 148 & 62 \\\\\n",
       "\t27 & 97 & 36 & 110 & 96 & 116 & 158 \\\\\n",
       "\t28 & 157 & 156 & 69 & 41 & 40 & 80 \\\\\n",
       "\t29 & 144 & 123 & 122 & 39 & 61 & 121 \\\\\n",
       "\\end{tabular}\n"
      ],
      "text/plain": [
       "29×6 DataFrame\n",
       "│ Row │ x1    │ x2    │ x3    │ x4    │ x5    │ x6    │\n",
       "│     │ \u001b[90mInt64\u001b[39m │ \u001b[90mInt64\u001b[39m │ \u001b[90mInt64\u001b[39m │ \u001b[90mInt64\u001b[39m │ \u001b[90mInt64\u001b[39m │ \u001b[90mInt64\u001b[39m │\n",
       "├─────┼───────┼───────┼───────┼───────┼───────┼───────┤\n",
       "│ 1   │ 129   │ 0     │ 1     │ 2     │ 0     │ 4     │\n",
       "│ 2   │ 99    │ 0     │ 100   │ 82    │ 0     │ 3     │\n",
       "│ 3   │ 132   │ 0     │ 8     │ 5     │ 0     │ 135   │\n",
       "│ 4   │ 6     │ 0     │ 7     │ 128   │ 0     │ 127   │\n",
       "│ 5   │ 51    │ 125   │ 124   │ 11    │ 107   │ 21    │\n",
       "│ 6   │ 48    │ 50    │ 55    │ 34    │ 108   │ 101   │\n",
       "│ 7   │ 159   │ 49    │ 74    │ 64    │ 63    │ 134   │\n",
       "│ 8   │ 56    │ 54    │ 0     │ 65    │ 66    │ 141   │\n",
       "│ 9   │ 57    │ 47    │ 52    │ 154   │ 78    │ 44    │\n",
       "│ 10  │ 90    │ 28    │ 29    │ 67    │ 79    │ 112   │\n",
       "⋮\n",
       "│ 19  │ 35    │ 145   │ 149   │ 71    │ 45    │ 0     │\n",
       "│ 20  │ 137   │ 136   │ 138   │ 119   │ 150   │ 151   │\n",
       "│ 21  │ 10    │ 143   │ 9     │ 131   │ 60    │ 58    │\n",
       "│ 22  │ 75    │ 0     │ 85    │ 115   │ 59    │ 81    │\n",
       "│ 23  │ 30    │ 0     │ 31    │ 84    │ 160   │ 106   │\n",
       "│ 24  │ 118   │ 114   │ 87    │ 0     │ 46    │ 109   │\n",
       "│ 25  │ 86    │ 133   │ 68    │ 120   │ 113   │ 37    │\n",
       "│ 26  │ 142   │ 83    │ 147   │ 146   │ 148   │ 62    │\n",
       "│ 27  │ 97    │ 36    │ 110   │ 96    │ 116   │ 158   │\n",
       "│ 28  │ 157   │ 156   │ 69    │ 41    │ 40    │ 80    │\n",
       "│ 29  │ 144   │ 123   │ 122   │ 39    │ 61    │ 121   │"
      ]
     },
     "execution_count": 95,
     "metadata": {},
     "output_type": "execute_result"
    }
   ],
   "source": [
    "\n",
    "print(\"Objective value:\")\n",
    "println(objective_value(model))\n",
    "x = value.(delta)\n",
    "z = zeros(Int64,nb_rangees,nb_colonnes)\n",
    "\n",
    "for i = 1:nb_rangees\n",
    "    for j = 1:nb_colonnes\n",
    "        for k = 1:nb_passagers\n",
    "            if x[i,j,k] == 1\n",
    "                z[i,j] = k\n",
    "            end\n",
    "        end\n",
    "    end\n",
    "end\n",
    "\n",
    "convert(DataFrame, z)"
   ]
  },
  {
   "cell_type": "code",
   "execution_count": 96,
   "metadata": {},
   "outputs": [
    {
     "name": "stdout",
     "output_type": "stream",
     "text": [
      "Tous les passagers en transit: \n",
      "[32, 63, 64, 65, 66, 67, 124, 125, 126, 130, 139]\n",
      "Tout les passsagers business: \n",
      "[1, 2, 3, 4, 5, 6, 7, 8, 82, 99, 100, 127, 128]\n",
      "Tous les enfants: \n",
      "[7, 14, 15, 16, 20, 29, 41, 66, 104, 105, 118, 128, 137, 138, 148, 151, 157]\n",
      "Tout les WCHR: \n",
      "Int64[]\n"
     ]
    }
   ],
   "source": [
    "println(\"Tous les passagers en transit: \",)\n",
    "trans_pass = collect(i for i in 1:nb_passagers if transit_time[i] ==1)\n",
    "println(collect(i for i in 1:nb_passagers if transit_time[i] ==1))\n",
    "num_trans = length(trans_pass)\n",
    "                \n",
    "println(\"Tout les passsagers business: \")\n",
    "business_pass = collect(i for i in 1:nb_passagers if business[i] ==1) \n",
    "println(collect(i for i in 1:nb_passagers if business[i] ==1)) \n",
    "num_buss = length(business_pass)                                  \n",
    "                                \n",
    "println(\"Tous les enfants: \")\n",
    "println(collect(i for i in 1:nb_passagers if enfants[i] ==1)) \n",
    "\n",
    "println(\"Tout les WCHR: \")\n",
    "println(collect(i for i in 1:nb_passagers if WCHR[i] ==1))                                                "
   ]
  },
  {
   "cell_type": "markdown",
   "metadata": {},
   "source": [
    "Prise en compte de l'objectif de mettre vers l'avant de l'avion (dans le premier \"tiers\") les passagers avec un tremps de correspondance inférieur à 1h30. \n",
    "\n",
    "En pratique les 10 premières rangées de l'avion sont généralement occuppées par la cabine business et les personnes à mobilité réduite, c'est en tout cas le choix que nous avons fait. Le premier \"tiers\" est donc défini comme étant l'ensemble des rangées correpsondant aux classes business et celles pour les personnes à mobilité réduite, auxquelles on rajoute le tiers des rangées de la cabine économique restante."
   ]
  },
  {
   "cell_type": "code",
   "execution_count": 79,
   "metadata": {},
   "outputs": [
    {
     "name": "stdout",
     "output_type": "stream",
     "text": [
      "Passengers with transit time < 1:30:00 in first third: 11/11\n",
      "Business passengers in business class cabin 13/13\n"
     ]
    }
   ],
   "source": [
    "time_succ = 0\n",
    "for i=1:10\n",
    "    for j=1:nb_colonnes\n",
    "        if z[i,j] in trans_pass\n",
    "            time_succ += 1 #on dénombre les passagers en transit <=1h30 qui sont placés dans le 1er tiers\n",
    "        end\n",
    "    end\n",
    "end\n",
    "println(\"Passengers with transit time < 1:30:00 in first third: $time_succ/$num_trans\")\n",
    "println(\"Business passengers in business class cabin $num_buss/$num_buss\")"
   ]
  },
  {
   "cell_type": "markdown",
   "metadata": {},
   "source": [
    "# Affichage des résultats - Placement des groupes"
   ]
  },
  {
   "cell_type": "code",
   "execution_count": 80,
   "metadata": {},
   "outputs": [
    {
     "data": {
      "text/html": [
       "<table class=\"data-frame\"><thead><tr><th></th><th>x1</th><th>x2</th><th>x3</th><th>x4</th><th>x5</th><th>x6</th></tr><tr><th></th><th>Int64</th><th>Int64</th><th>Int64</th><th>Int64</th><th>Int64</th><th>Int64</th></tr></thead><tbody><p>29 rows × 6 columns</p><tr><th>1</th><td>32</td><td>0</td><td>40</td><td>48</td><td>0</td><td>1</td></tr><tr><th>2</th><td>37</td><td>0</td><td>73</td><td>4</td><td>0</td><td>1</td></tr><tr><th>3</th><td>5</td><td>0</td><td>4</td><td>61</td><td>0</td><td>3</td></tr><tr><th>4</th><td>2</td><td>0</td><td>2</td><td>61</td><td>0</td><td>49</td></tr><tr><th>5</th><td>58</td><td>36</td><td>52</td><td>80</td><td>50</td><td>83</td></tr><tr><th>6</th><td>78</td><td>78</td><td>16</td><td>60</td><td>78</td><td>70</td></tr><tr><th>7</th><td>77</td><td>77</td><td>77</td><td>31</td><td>31</td><td>53</td></tr><tr><th>8</th><td>14</td><td>67</td><td>57</td><td>31</td><td>63</td><td>44</td></tr><tr><th>9</th><td>30</td><td>56</td><td>59</td><td>33</td><td>74</td><td>59</td></tr><tr><th>10</th><td>14</td><td>17</td><td>57</td><td>33</td><td>0</td><td>15</td></tr><tr><th>11</th><td>20</td><td>13</td><td>13</td><td>13</td><td>53</td><td>76</td></tr><tr><th>12</th><td>11</td><td>21</td><td>42</td><td>39</td><td>39</td><td>72</td></tr><tr><th>13</th><td>42</td><td>47</td><td>6</td><td>19</td><td>42</td><td>64</td></tr><tr><th>14</th><td>41</td><td>6</td><td>26</td><td>82</td><td>41</td><td>35</td></tr><tr><th>15</th><td>10</td><td>0</td><td>27</td><td>84</td><td>26</td><td>65</td></tr><tr><th>16</th><td>25</td><td>29</td><td>68</td><td>9</td><td>9</td><td>9</td></tr><tr><th>17</th><td>25</td><td>24</td><td>26</td><td>79</td><td>79</td><td>41</td></tr><tr><th>18</th><td>62</td><td>27</td><td>27</td><td>26</td><td>26</td><td>55</td></tr><tr><th>19</th><td>54</td><td>41</td><td>41</td><td>34</td><td>34</td><td>9</td></tr><tr><th>20</th><td>46</td><td>28</td><td>54</td><td>34</td><td>66</td><td>34</td></tr><tr><th>21</th><td>51</td><td>51</td><td>51</td><td>54</td><td>54</td><td>51</td></tr><tr><th>22</th><td>69</td><td>69</td><td>69</td><td>26</td><td>54</td><td>54</td></tr><tr><th>23</th><td>23</td><td>43</td><td>43</td><td>8</td><td>8</td><td>54</td></tr><tr><th>24</th><td>38</td><td>22</td><td>22</td><td>43</td><td>22</td><td>54</td></tr><tr><th>25</th><td>18</td><td>54</td><td>43</td><td>26</td><td>26</td><td>54</td></tr><tr><th>26</th><td>38</td><td>0</td><td>26</td><td>8</td><td>8</td><td>8</td></tr><tr><th>27</th><td>23</td><td>12</td><td>12</td><td>71</td><td>26</td><td>75</td></tr><tr><th>28</th><td>38</td><td>45</td><td>12</td><td>0</td><td>26</td><td>12</td></tr><tr><th>29</th><td>81</td><td>0</td><td>81</td><td>81</td><td>0</td><td>7</td></tr></tbody></table>"
      ],
      "text/latex": [
       "\\begin{tabular}{r|cccccc}\n",
       "\t& x1 & x2 & x3 & x4 & x5 & x6\\\\\n",
       "\t\\hline\n",
       "\t& Int64 & Int64 & Int64 & Int64 & Int64 & Int64\\\\\n",
       "\t\\hline\n",
       "\t1 & 32 & 0 & 40 & 48 & 0 & 1 \\\\\n",
       "\t2 & 37 & 0 & 73 & 4 & 0 & 1 \\\\\n",
       "\t3 & 5 & 0 & 4 & 61 & 0 & 3 \\\\\n",
       "\t4 & 2 & 0 & 2 & 61 & 0 & 49 \\\\\n",
       "\t5 & 58 & 36 & 52 & 80 & 50 & 83 \\\\\n",
       "\t6 & 78 & 78 & 16 & 60 & 78 & 70 \\\\\n",
       "\t7 & 77 & 77 & 77 & 31 & 31 & 53 \\\\\n",
       "\t8 & 14 & 67 & 57 & 31 & 63 & 44 \\\\\n",
       "\t9 & 30 & 56 & 59 & 33 & 74 & 59 \\\\\n",
       "\t10 & 14 & 17 & 57 & 33 & 0 & 15 \\\\\n",
       "\t11 & 20 & 13 & 13 & 13 & 53 & 76 \\\\\n",
       "\t12 & 11 & 21 & 42 & 39 & 39 & 72 \\\\\n",
       "\t13 & 42 & 47 & 6 & 19 & 42 & 64 \\\\\n",
       "\t14 & 41 & 6 & 26 & 82 & 41 & 35 \\\\\n",
       "\t15 & 10 & 0 & 27 & 84 & 26 & 65 \\\\\n",
       "\t16 & 25 & 29 & 68 & 9 & 9 & 9 \\\\\n",
       "\t17 & 25 & 24 & 26 & 79 & 79 & 41 \\\\\n",
       "\t18 & 62 & 27 & 27 & 26 & 26 & 55 \\\\\n",
       "\t19 & 54 & 41 & 41 & 34 & 34 & 9 \\\\\n",
       "\t20 & 46 & 28 & 54 & 34 & 66 & 34 \\\\\n",
       "\t21 & 51 & 51 & 51 & 54 & 54 & 51 \\\\\n",
       "\t22 & 69 & 69 & 69 & 26 & 54 & 54 \\\\\n",
       "\t23 & 23 & 43 & 43 & 8 & 8 & 54 \\\\\n",
       "\t24 & 38 & 22 & 22 & 43 & 22 & 54 \\\\\n",
       "\t25 & 18 & 54 & 43 & 26 & 26 & 54 \\\\\n",
       "\t26 & 38 & 0 & 26 & 8 & 8 & 8 \\\\\n",
       "\t27 & 23 & 12 & 12 & 71 & 26 & 75 \\\\\n",
       "\t28 & 38 & 45 & 12 & 0 & 26 & 12 \\\\\n",
       "\t29 & 81 & 0 & 81 & 81 & 0 & 7 \\\\\n",
       "\\end{tabular}\n"
      ],
      "text/plain": [
       "29×6 DataFrame\n",
       "│ Row │ x1    │ x2    │ x3    │ x4    │ x5    │ x6    │\n",
       "│     │ \u001b[90mInt64\u001b[39m │ \u001b[90mInt64\u001b[39m │ \u001b[90mInt64\u001b[39m │ \u001b[90mInt64\u001b[39m │ \u001b[90mInt64\u001b[39m │ \u001b[90mInt64\u001b[39m │\n",
       "├─────┼───────┼───────┼───────┼───────┼───────┼───────┤\n",
       "│ 1   │ 32    │ 0     │ 40    │ 48    │ 0     │ 1     │\n",
       "│ 2   │ 37    │ 0     │ 73    │ 4     │ 0     │ 1     │\n",
       "│ 3   │ 5     │ 0     │ 4     │ 61    │ 0     │ 3     │\n",
       "│ 4   │ 2     │ 0     │ 2     │ 61    │ 0     │ 49    │\n",
       "│ 5   │ 58    │ 36    │ 52    │ 80    │ 50    │ 83    │\n",
       "│ 6   │ 78    │ 78    │ 16    │ 60    │ 78    │ 70    │\n",
       "│ 7   │ 77    │ 77    │ 77    │ 31    │ 31    │ 53    │\n",
       "│ 8   │ 14    │ 67    │ 57    │ 31    │ 63    │ 44    │\n",
       "│ 9   │ 30    │ 56    │ 59    │ 33    │ 74    │ 59    │\n",
       "│ 10  │ 14    │ 17    │ 57    │ 33    │ 0     │ 15    │\n",
       "⋮\n",
       "│ 19  │ 54    │ 41    │ 41    │ 34    │ 34    │ 9     │\n",
       "│ 20  │ 46    │ 28    │ 54    │ 34    │ 66    │ 34    │\n",
       "│ 21  │ 51    │ 51    │ 51    │ 54    │ 54    │ 51    │\n",
       "│ 22  │ 69    │ 69    │ 69    │ 26    │ 54    │ 54    │\n",
       "│ 23  │ 23    │ 43    │ 43    │ 8     │ 8     │ 54    │\n",
       "│ 24  │ 38    │ 22    │ 22    │ 43    │ 22    │ 54    │\n",
       "│ 25  │ 18    │ 54    │ 43    │ 26    │ 26    │ 54    │\n",
       "│ 26  │ 38    │ 0     │ 26    │ 8     │ 8     │ 8     │\n",
       "│ 27  │ 23    │ 12    │ 12    │ 71    │ 26    │ 75    │\n",
       "│ 28  │ 38    │ 45    │ 12    │ 0     │ 26    │ 12    │\n",
       "│ 29  │ 81    │ 0     │ 81    │ 81    │ 0     │ 7     │"
      ]
     },
     "execution_count": 80,
     "metadata": {},
     "output_type": "execute_result"
    }
   ],
   "source": [
    "# on affiche un avion qui montre quelles places sont accordées à quels groupes \n",
    "q = zeros(Int64,nb_rangees,nb_colonnes)\n",
    "for g in 1:nb_groups\n",
    "    for i = 1:nb_rangees\n",
    "        for j = 1:nb_colonnes\n",
    "            if z[i,j] in unique_group[g]\n",
    "                q[i,j] = g\n",
    "            end\n",
    "        end\n",
    "    end\n",
    "end\n",
    "convert(DataFrame, q)"
   ]
  },
  {
   "cell_type": "code",
   "execution_count": 81,
   "metadata": {},
   "outputs": [
    {
     "name": "stdout",
     "output_type": "stream",
     "text": [
      "3.504005340453935\n",
      "14.730974632843784"
     ]
    }
   ],
   "source": [
    "println(value.(x_G)) \n",
    "print(value.(y_G))\n"
   ]
  },
  {
   "cell_type": "code",
   "execution_count": null,
   "metadata": {},
   "outputs": [],
   "source": [
    "#CSV.write(\"Optimal_solution_3(nuit)_passagers.csv\", convert(DataFrame,z))\n",
    "#CSV.write(\"Optimal_solution_3(nuit)_groupes.csv\", convert(DataFrame,q)) \n",
    "\n",
    "#En utilisant Optimal_solution_1_groupes.csv dans \"Solution_visualisation.ipynb\" on peut visualiser avec des \n",
    "#couleurs l'affectation des groupes, c'est ce rendu visuel qu'on inclut dans le rapport\n",
    "\n",
    "println(\"Passengers with transit time < 1:30:00 in first third: $time_succ/$num_trans\")\n",
    "println(\"Business passengers in business class cabin $num_buss/$num_buss\")"
   ]
  },
  {
   "cell_type": "markdown",
   "metadata": {},
   "source": [
    "# Calcul de la valeur de la satisfaction client associée à la configuration"
   ]
  },
  {
   "cell_type": "code",
   "execution_count": null,
   "metadata": {},
   "outputs": [],
   "source": [
    "function get_client_number(i, j, delta) #fonction qui renvoie le numéro du client à la rangée i place j\n",
    "    x = value.(delta)\n",
    "    for k=1:size(delta)[3]\n",
    "        if x[i,j,k]==1\n",
    "            return k\n",
    "        end\n",
    "    end\n",
    "    return 0 #pas de client assis sur cette chaise\n",
    "end"
   ]
  },
  {
   "cell_type": "code",
   "execution_count": null,
   "metadata": {},
   "outputs": [],
   "source": [
    "function cost(delta)\n",
    "    cost = 0\n",
    "    nb_rows, nb_columns = size(delta)[1], size(delta)[2]\n",
    "    for i=1:nb_rows\n",
    "        for j=1:nb_columns\n",
    "            cost += satisfaction(i, j, delta)\n",
    "        end\n",
    "    end\n",
    "    return cost\n",
    "end\n",
    "\n",
    "function satisfaction(i, j, delta)\n",
    "    x = value.(delta)\n",
    "    client = get_client_number(i, j, delta)\n",
    "    if client==0\n",
    "        return 0\n",
    "    end\n",
    "    group = groups[client]\n",
    "    group_size = length(group)\n",
    "    score = 0\n",
    "    side = 1\n",
    "    front = 0.5\n",
    "    behind = 0.5\n",
    "    alley = 1\n",
    "    if group_size <= 3\n",
    "        front = 0.25\n",
    "        behind = 0.25\n",
    "        alley = 0.25\n",
    "    end\n",
    "    if i==1\n",
    "        if j==1\n",
    "            if get_client_number(i, j + 1, delta) in group\n",
    "                score += side\n",
    "            end\n",
    "            if get_client_number(i + 1, j, delta) in group\n",
    "                score += behind\n",
    "            end\n",
    "        elseif j==3\n",
    "            if get_client_number(i, j - 1, delta) in group\n",
    "                score += side\n",
    "            end\n",
    "            if get_client_number(i, j + 1, delta) in group\n",
    "                score += alley\n",
    "            end\n",
    "            if get_client_number(i + 1, j, delta) in group\n",
    "                score += behind\n",
    "            end\n",
    "        elseif j==4\n",
    "            if get_client_number(i, j - 1, delta) in group\n",
    "                score += alley\n",
    "            end\n",
    "            if get_client_number(i, j + 1, delta) in group\n",
    "                score += side\n",
    "            end\n",
    "            if get_client_number(i + 1, j, delta) in group\n",
    "                score += behind\n",
    "            end\n",
    "        elseif j==6\n",
    "            if get_client_number(i, j - 1, delta) in group\n",
    "                score += side\n",
    "            end\n",
    "            if get_client_number(i + 1, j, delta) in group\n",
    "                score += behind\n",
    "            end\n",
    "        else\n",
    "            if get_client_number(i, j - 1, delta) in group\n",
    "                score += side\n",
    "            end\n",
    "            if get_client_number(i, j + 1, delta) in group\n",
    "                score += side\n",
    "            end\n",
    "            if get_client_number(i + 1, j, delta) in group\n",
    "                score += behind\n",
    "            end\n",
    "        end\n",
    "    elseif i==size(delta)[1]\n",
    "        if j==1\n",
    "            if get_client_number(i, j + 1, delta) in group\n",
    "                score += side\n",
    "            end\n",
    "            if get_client_number(i - 1, j, delta) in group\n",
    "                score += front\n",
    "            end\n",
    "        elseif j==3\n",
    "            if get_client_number(i, j - 1, delta) in group\n",
    "                score += side\n",
    "            end\n",
    "            if get_client_number(i, j + 1, delta) in group\n",
    "                score += alley\n",
    "            end\n",
    "            if get_client_number(i - 1, j, delta) in group\n",
    "                score += front\n",
    "            end\n",
    "        elseif j==4\n",
    "            if get_client_number(i, j - 1, delta) in group\n",
    "                score += alley\n",
    "            end\n",
    "            if get_client_number(i, j + 1, delta) in group\n",
    "                score += side\n",
    "            end\n",
    "            if get_client_number(i - 1, j, delta) in group\n",
    "                score += front\n",
    "            end\n",
    "        elseif j==6\n",
    "            if get_client_number(i, j - 1, delta) in group\n",
    "                score += side\n",
    "            end\n",
    "            if get_client_number(i - 1, j, delta) in group\n",
    "                score += front\n",
    "            end\n",
    "        else\n",
    "            if get_client_number(i, j - 1, delta) in group\n",
    "                score += side\n",
    "            end\n",
    "            if get_client_number(i, j + 1, delta) in group\n",
    "                score += side\n",
    "            end\n",
    "            if get_client_number(i - 1, j, delta) in group\n",
    "                score += front\n",
    "            end\n",
    "        end\n",
    "    else\n",
    "        if j==1\n",
    "            if get_client_number(i, j + 1, delta) in group\n",
    "                score += side\n",
    "            end\n",
    "            if get_client_number(i - 1, j, delta) in group\n",
    "                score += front\n",
    "            end\n",
    "            if get_client_number(i + 1, j, delta) in group\n",
    "                score += behind\n",
    "            end\n",
    "        elseif j==3\n",
    "            if get_client_number(i, j - 1, delta) in group\n",
    "                score += side\n",
    "            end\n",
    "            if get_client_number(i, j + 1, delta) in group\n",
    "                score += alley\n",
    "            end\n",
    "            if get_client_number(i - 1, j, delta) in group\n",
    "                score += front\n",
    "            end\n",
    "            if get_client_number(i + 1, j, delta) in group\n",
    "                score += behind\n",
    "            end\n",
    "        elseif j==4\n",
    "            if get_client_number(i, j - 1, delta) in group\n",
    "                score += alley\n",
    "            end\n",
    "            if get_client_number(i, j + 1, delta) in group\n",
    "                score += side\n",
    "            end\n",
    "            if get_client_number(i - 1, j, delta) in group\n",
    "                score += front\n",
    "            end\n",
    "            if get_client_number(i + 1, j, delta) in group\n",
    "                score += behind\n",
    "            end\n",
    "        elseif j==6\n",
    "            if get_client_number(i, j - 1, delta) in group\n",
    "                score += side\n",
    "            end\n",
    "            if get_client_number(i - 1, j, delta) in group\n",
    "                score += front\n",
    "            end\n",
    "            if get_client_number(i + 1, j, delta) in group\n",
    "                score += behind\n",
    "            end\n",
    "        else\n",
    "            if get_client_number(i, j - 1, delta) in group\n",
    "                score += side\n",
    "            end\n",
    "            if get_client_number(i, j + 1, delta) in group\n",
    "                score += side\n",
    "            end\n",
    "            if get_client_number(i - 1, j, delta) in group\n",
    "                score += front\n",
    "            end\n",
    "            if get_client_number(i + 1, j, delta) in group\n",
    "                score += behind\n",
    "            end\n",
    "        end\n",
    "    end\n",
    "    return score\n",
    "end"
   ]
  },
  {
   "cell_type": "code",
   "execution_count": null,
   "metadata": {},
   "outputs": [],
   "source": [
    "@btime cost(delta)"
   ]
  },
  {
   "cell_type": "code",
   "execution_count": null,
   "metadata": {},
   "outputs": [],
   "source": []
  }
 ],
 "metadata": {
  "kernelspec": {
   "display_name": "Julia 1.3.1",
   "language": "julia",
   "name": "julia-1.3"
  },
  "language_info": {
   "file_extension": ".jl",
   "mimetype": "application/julia",
   "name": "julia",
   "version": "1.3.1"
  }
 },
 "nbformat": 4,
 "nbformat_minor": 2
}

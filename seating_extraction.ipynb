{
 "cells": [
  {
   "cell_type": "code",
   "execution_count": 19,
   "metadata": {},
   "outputs": [],
   "source": [
    "#cette fichier crée un csv à partie des données qui s'appelle dict_seating.csv qui pourrait être utilisé par julia \n",
    "\n",
    "import pandas as pd\n",
    "import datetime\n",
    "excel_file = \"Data Seating.xlsx\"\n",
    "sheet_number = 0 #numero de la feuille excel\n",
    "data_seating = pd.read_excel(excel_file, sheet_number, skipfooter=2)\n",
    "data_seating = data_seating.fillna(0)"
   ]
  },
  {
   "cell_type": "code",
   "execution_count": 20,
   "metadata": {},
   "outputs": [],
   "source": [
    "dict_seating = {}\n",
    "id_client = 0\n",
    "for row in range(data_seating.shape[0]):\n",
    "    id_group = id_client+1\n",
    "    men = int(data_seating[\"Hommes\"][row])\n",
    "    women = int(data_seating[\"Femmes\"][row])\n",
    "    children = int(data_seating[\"Enfants\"][row])\n",
    "    WCHR = int(data_seating[\"WCHR\"][row])\n",
    "    transit_time = 0\n",
    "    if datetime.time(0, 1) <= data_seating[\"TransitTime\"][row] <= datetime.time(1, 30):\n",
    "        transit_time = 1\n",
    "    group_size = men + women + children + WCHR\n",
    "    group_members = [number for number in range(id_group, id_group+group_size)]\n",
    "    classe = 0\n",
    "    if data_seating[\"Classe\"][row] != 'Y':\n",
    "        classe = 1\n",
    "    for k in range(men):\n",
    "        dict_seating[id_client+1] = {\"genre\":1, \"enfant\":0, \"transit_time\":transit_time, \"classe\":classe, \"WCHR\":0, \"group_members\":group_members, \"poids\":80}\n",
    "        id_client+=1\n",
    "    for k in range(women):\n",
    "        dict_seating[id_client+1] = {\"genre\":0, \"enfant\":0, \"transit_time\":transit_time, \"classe\":classe, \"WCHR\":0, \"group_members\":group_members, \"poids\":70} \n",
    "        id_client+=1\n",
    "    for k in range(children):\n",
    "        dict_seating[id_client+1] = {\"genre\":1, \"enfant\":1, \"transit_time\":transit_time, \"classe\":classe, \"WCHR\":0, \"group_members\":group_members, \"poids\":35}\n",
    "        id_client+=1\n",
    "    for k in range(WCHR):\n",
    "        dict_seating[id_client+1] = {\"genre\":1, \"enfant\":0, \"transit_time\":transit_time, \"classe\":classe, \"WCHR\":1, \"group_members\":group_members, \"poids\":95}\n",
    "        id_client+=1\n"
   ]
  },
  {
   "cell_type": "code",
   "execution_count": 21,
   "metadata": {},
   "outputs": [
    {
     "name": "stdout",
     "output_type": "stream",
     "text": [
      "38 152\n"
     ]
    }
   ],
   "source": [
    "total = 0\n",
    "for k in range(1,len(dict_seating)+1):\n",
    "    if dict_seating[k][\"transit_time\"]==1:\n",
    "        total+= 1\n",
    "print(total, len(dict_seating))"
   ]
  },
  {
   "cell_type": "code",
   "execution_count": 22,
   "metadata": {},
   "outputs": [],
   "source": [
    "import pandas as pd\n",
    "\n",
    "u = (pd.DataFrame.from_dict(data=dict_seating, orient='index',columns=['genre','enfant','transit_time','classe','WCHR','group_members','poids'])\n",
    "   .to_csv('dict_seating.csv', header=True,))"
   ]
  },
  {
   "cell_type": "code",
   "execution_count": null,
   "metadata": {},
   "outputs": [],
   "source": []
  }
 ],
 "metadata": {
  "kernelspec": {
   "display_name": "Python 3",
   "language": "python",
   "name": "python3"
  },
  "language_info": {
   "codemirror_mode": {
    "name": "ipython",
    "version": 3
   },
   "file_extension": ".py",
   "mimetype": "text/x-python",
   "name": "python",
   "nbconvert_exporter": "python",
   "pygments_lexer": "ipython3",
   "version": "3.7.4"
  }
 },
 "nbformat": 4,
 "nbformat_minor": 4
}
